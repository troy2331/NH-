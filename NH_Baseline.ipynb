{
  "nbformat": 4,
  "nbformat_minor": 0,
  "metadata": {
    "colab": {
      "name": "NH_Baseline.ipynb",
      "provenance": [],
      "toc_visible": true
    },
    "kernelspec": {
      "name": "python3",
      "display_name": "Python 3"
    },
    "language_info": {
      "name": "python"
    },
    "accelerator": "GPU"
  },
  "cells": [
    {
      "cell_type": "code",
      "metadata": {
        "id": "cI0ZVxquUNhK"
      },
      "source": [
        ""
      ],
      "execution_count": null,
      "outputs": []
    },
    {
      "cell_type": "code",
      "metadata": {
        "id": "luC2b-CoUBo8"
      },
      "source": [
        ""
      ],
      "execution_count": null,
      "outputs": []
    },
    {
      "cell_type": "code",
      "metadata": {
        "id": "wVM4Tu5ICFnV",
        "colab": {
          "base_uri": "https://localhost:8080/"
        },
        "outputId": "63f054fb-d254-4682-a166-b6166a0b2b90"
      },
      "source": [
        "from google.colab import drive\n",
        "drive.mount('/content/drive')"
      ],
      "execution_count": 1,
      "outputs": [
        {
          "output_type": "stream",
          "name": "stdout",
          "text": [
            "Mounted at /content/drive\n"
          ]
        }
      ]
    },
    {
      "cell_type": "code",
      "metadata": {
        "id": "cA2sUdMHUN7h"
      },
      "source": [
        ""
      ],
      "execution_count": null,
      "outputs": []
    },
    {
      "cell_type": "code",
      "metadata": {
        "id": "4ffby57Vkdq-"
      },
      "source": [
        "#데이터 다운로드\n",
        "from google.colab import drive\n",
        "import os\n",
        "\n",
        "path = '/content/drive/MyDrive/open (1)'"
      ],
      "execution_count": 2,
      "outputs": []
    },
    {
      "cell_type": "code",
      "metadata": {
        "id": "cpIKnExmkrKT"
      },
      "source": [
        "import pandas as pd\n",
        "data_train = pd.read_csv(path + '/stk_hld_train.csv')\n",
        "data_test = pd.read_csv(path + '/stk_hld_test.csv')"
      ],
      "execution_count": 3,
      "outputs": []
    },
    {
      "cell_type": "code",
      "metadata": {
        "colab": {
          "base_uri": "https://localhost:8080/",
          "height": 204
        },
        "id": "FHME8XVrlJUz",
        "outputId": "0c3bcc4d-e862-4724-96a1-13bd9f7b6ca7"
      },
      "source": [
        "data_train.head()"
      ],
      "execution_count": 4,
      "outputs": [
        {
          "output_type": "execute_result",
          "data": {
            "text/html": [
              "<div>\n",
              "<style scoped>\n",
              "    .dataframe tbody tr th:only-of-type {\n",
              "        vertical-align: middle;\n",
              "    }\n",
              "\n",
              "    .dataframe tbody tr th {\n",
              "        vertical-align: top;\n",
              "    }\n",
              "\n",
              "    .dataframe thead th {\n",
              "        text-align: right;\n",
              "    }\n",
              "</style>\n",
              "<table border=\"1\" class=\"dataframe\">\n",
              "  <thead>\n",
              "    <tr style=\"text-align: right;\">\n",
              "      <th></th>\n",
              "      <th>act_id</th>\n",
              "      <th>iem_cd</th>\n",
              "      <th>byn_dt</th>\n",
              "      <th>hold_d</th>\n",
              "    </tr>\n",
              "  </thead>\n",
              "  <tbody>\n",
              "    <tr>\n",
              "      <th>0</th>\n",
              "      <td>0ad104dbed99be0cd858aa772765ddedade554601a981b...</td>\n",
              "      <td>A006360</td>\n",
              "      <td>20180726</td>\n",
              "      <td>11</td>\n",
              "    </tr>\n",
              "    <tr>\n",
              "      <th>1</th>\n",
              "      <td>0ad104dbed99be0cd858aa772765ddedade554601a981b...</td>\n",
              "      <td>A005930</td>\n",
              "      <td>20180131</td>\n",
              "      <td>80</td>\n",
              "    </tr>\n",
              "    <tr>\n",
              "      <th>2</th>\n",
              "      <td>0ad104dbed99be0cd858aa772765ddedade554601a981b...</td>\n",
              "      <td>A005070</td>\n",
              "      <td>20180517</td>\n",
              "      <td>5</td>\n",
              "    </tr>\n",
              "    <tr>\n",
              "      <th>3</th>\n",
              "      <td>0ad104dbed99be0cd858aa772765ddedade554601a981b...</td>\n",
              "      <td>A003520</td>\n",
              "      <td>20201112</td>\n",
              "      <td>22</td>\n",
              "    </tr>\n",
              "    <tr>\n",
              "      <th>4</th>\n",
              "      <td>0ad104dbed99be0cd858aa772765ddedade554601a981b...</td>\n",
              "      <td>A002310</td>\n",
              "      <td>20180905</td>\n",
              "      <td>324</td>\n",
              "    </tr>\n",
              "  </tbody>\n",
              "</table>\n",
              "</div>"
            ],
            "text/plain": [
              "                                              act_id   iem_cd    byn_dt  hold_d\n",
              "0  0ad104dbed99be0cd858aa772765ddedade554601a981b...  A006360  20180726      11\n",
              "1  0ad104dbed99be0cd858aa772765ddedade554601a981b...  A005930  20180131      80\n",
              "2  0ad104dbed99be0cd858aa772765ddedade554601a981b...  A005070  20180517       5\n",
              "3  0ad104dbed99be0cd858aa772765ddedade554601a981b...  A003520  20201112      22\n",
              "4  0ad104dbed99be0cd858aa772765ddedade554601a981b...  A002310  20180905     324"
            ]
          },
          "metadata": {},
          "execution_count": 4
        }
      ]
    },
    {
      "cell_type": "code",
      "metadata": {
        "colab": {
          "base_uri": "https://localhost:8080/",
          "height": 52
        },
        "id": "5y-LI1vNlLZS",
        "outputId": "56b658c6-79df-421d-8d10-2459ac04e52c"
      },
      "source": [
        "data_test.head() # test 데이터에는 train데이터에 없는 hist_d 컬럼이 존재함, 2021년 이전에 주식을 보유한 기간 \n",
        "# 힌드는 Hold_d ( 보유기간 ) - hist_d(\"2020~12.31 까지의 최근 보유기간) <= 146\")\n",
        "# 2021년 데이터 기간은 1.1~7.31로 제한, 다양한 기준으로 hist_d column을 만들어 새로운 Feature\n",
        "\n",
        "''' 추가적으로 새로운 피쳐로 사용할 수 있는 정보에, 고객의 이전 주식 보유이력이 있다 \n",
        "past_d / stk_bnc_hist.csv 데이터를 살펴보면 stk_hld_test.csv 고객들의 이전 보유이력 (past_d)를 확인가능\n",
        "stk_hld_train.csv 도 마찬가지로 past_d column 만들수있음 '''"
      ],
      "execution_count": 5,
      "outputs": [
        {
          "output_type": "execute_result",
          "data": {
            "application/vnd.google.colaboratory.intrinsic+json": {
              "type": "string"
            },
            "text/plain": [
              "' 추가적으로 새로운 피쳐로 사용할 수 있는 정보에, 고객의 이전 주식 보유이력이 있다 \\npast_d / stk_bnc_hist.csv 데이터를 살펴보면 stk_hld_test.csv 고객들의 이전 보유이력 (past_d)를 확인가능\\nstk_hld_train.csv 도 마찬가지로 past_d column 만들수있음 '"
            ]
          },
          "metadata": {},
          "execution_count": 5
        }
      ]
    },
    {
      "cell_type": "code",
      "metadata": {
        "id": "bDTTx_d5l-r4"
      },
      "source": [
        "import pandas as pd\n",
        "pd.set_option(\"display.max_row\", 100)\n",
        "pd.set_option(\"display.max_column\", 100)\n",
        "import numpy as np\n",
        "import os\n",
        "\n",
        "from sklearn.preprocessing import LabelEncoder\n",
        "from sklearn.metrics import mean_squared_error as mse\n",
        "from sklearn.model_selection import train_test_split, StratifiedKFold, KFold\n",
        "from lightgbm import LGBMRegressor"
      ],
      "execution_count": 6,
      "outputs": []
    },
    {
      "cell_type": "code",
      "metadata": {
        "id": "Pz6D6x9JmAmD"
      },
      "source": [
        "cus = pd.read_csv(path + \"/cus_info.csv\")\n",
        "iem = pd.read_csv(path + \"/iem_info_20210902.csv\")\n",
        "hist = pd.read_csv(path + \"/stk_bnc_hist.csv\")\n",
        "train = pd.read_csv(path + \"/stk_hld_train.csv\")\n",
        "test = pd.read_csv(path + \"/stk_hld_test.csv\")\n",
        "\n",
        "submission = pd.read_csv(path + \"/sample_submission.csv\")"
      ],
      "execution_count": 18,
      "outputs": []
    },
    {
      "cell_type": "code",
      "metadata": {
        "colab": {
          "base_uri": "https://localhost:8080/"
        },
        "id": "_z52x3eAvc19",
        "outputId": "e7a73892-2f1f-4d2f-fe78-b0493a5a6f59"
      },
      "source": [
        "print(len(cus))\n",
        "print(len(iem))\n",
        "print(len(hist))\n",
        "print(len(train))\n",
        "print(len(test))"
      ],
      "execution_count": 19,
      "outputs": [
        {
          "output_type": "stream",
          "name": "stdout",
          "text": [
            "10000\n",
            "3079\n",
            "2573839\n",
            "681472\n",
            "70596\n"
          ]
        }
      ]
    },
    {
      "cell_type": "code",
      "metadata": {
        "id": "iKHCCJC7mAj5"
      },
      "source": [
        "# 앞서 언급한 것처럼 베이스라인에서는 \"hist_d\" column을 임의로 생성하여 모델을 학습시키도록 하겠습니다.\n",
        "# 베이스라인에서는 \"hold_d\"값, 즉 주식 보유기간의 0.6배에 해당하는 기간을 임의로 설정하여 \"hist_d\"를 생성하였습니다.\n",
        "# 결국 모델은 \"hist_d\"만큼 주식을 보유 했을때의 \"hold_d\"를 예측하게 될 것입니다.\n",
        "\n",
        "train[\"hist_d\"] = train[\"hold_d\"]*0.6\n",
        "train.hist_d = np.trunc(train[\"hist_d\"])"
      ],
      "execution_count": 20,
      "outputs": []
    },
    {
      "cell_type": "code",
      "metadata": {
        "id": "u-bGJICzmAht"
      },
      "source": [
        "# train과 test에 고객정보(cus_info)와 주식정보(iem_info)를 추가하겠습니다.\n",
        "\n",
        "train_data = pd.merge(train, cus, how = \"left\", on = [\"act_id\"])\n",
        "train_data = pd.merge(train_data, iem, how = \"left\", on = [\"iem_cd\"])\n",
        "\n",
        "test_data = pd.merge(test, cus, how = \"left\", on = [\"act_id\"])\n",
        "test_data = pd.merge(test_data, iem, how = \"left\", on = [\"iem_cd\"])"
      ],
      "execution_count": 21,
      "outputs": []
    },
    {
      "cell_type": "code",
      "metadata": {
        "colab": {
          "base_uri": "https://localhost:8080/",
          "height": 224
        },
        "id": "cp_cs4b_y0ox",
        "outputId": "fbefa2b1-6f69-4738-ce57-93b5cdb74b25"
      },
      "source": [
        "train_data.head()"
      ],
      "execution_count": 22,
      "outputs": [
        {
          "output_type": "execute_result",
          "data": {
            "text/html": [
              "<div>\n",
              "<style scoped>\n",
              "    .dataframe tbody tr th:only-of-type {\n",
              "        vertical-align: middle;\n",
              "    }\n",
              "\n",
              "    .dataframe tbody tr th {\n",
              "        vertical-align: top;\n",
              "    }\n",
              "\n",
              "    .dataframe thead th {\n",
              "        text-align: right;\n",
              "    }\n",
              "</style>\n",
              "<table border=\"1\" class=\"dataframe\">\n",
              "  <thead>\n",
              "    <tr style=\"text-align: right;\">\n",
              "      <th></th>\n",
              "      <th>act_id</th>\n",
              "      <th>iem_cd</th>\n",
              "      <th>byn_dt</th>\n",
              "      <th>hold_d</th>\n",
              "      <th>hist_d</th>\n",
              "      <th>sex_dit_cd</th>\n",
              "      <th>cus_age_stn_cd</th>\n",
              "      <th>ivs_icn_cd</th>\n",
              "      <th>cus_aet_stn_cd</th>\n",
              "      <th>mrz_pdt_tp_sgm_cd</th>\n",
              "      <th>lsg_sgm_cd</th>\n",
              "      <th>tco_cus_grd_cd</th>\n",
              "      <th>tot_ivs_te_sgm_cd</th>\n",
              "      <th>mrz_btp_dit_cd</th>\n",
              "      <th>iem_krl_nm</th>\n",
              "      <th>btp_cfc_cd</th>\n",
              "      <th>mkt_pr_tal_scl_tp_cd</th>\n",
              "      <th>stk_dit_cd</th>\n",
              "    </tr>\n",
              "  </thead>\n",
              "  <tbody>\n",
              "    <tr>\n",
              "      <th>0</th>\n",
              "      <td>0ad104dbed99be0cd858aa772765ddedade554601a981b...</td>\n",
              "      <td>A006360</td>\n",
              "      <td>20180726</td>\n",
              "      <td>11</td>\n",
              "      <td>6.0</td>\n",
              "      <td>1</td>\n",
              "      <td>9</td>\n",
              "      <td>3</td>\n",
              "      <td>2</td>\n",
              "      <td>2</td>\n",
              "      <td>9</td>\n",
              "      <td>5</td>\n",
              "      <td>5</td>\n",
              "      <td>8</td>\n",
              "      <td>GS건설</td>\n",
              "      <td>1</td>\n",
              "      <td>1</td>\n",
              "      <td>1</td>\n",
              "    </tr>\n",
              "    <tr>\n",
              "      <th>1</th>\n",
              "      <td>0ad104dbed99be0cd858aa772765ddedade554601a981b...</td>\n",
              "      <td>A005930</td>\n",
              "      <td>20180131</td>\n",
              "      <td>80</td>\n",
              "      <td>48.0</td>\n",
              "      <td>1</td>\n",
              "      <td>9</td>\n",
              "      <td>3</td>\n",
              "      <td>2</td>\n",
              "      <td>2</td>\n",
              "      <td>9</td>\n",
              "      <td>5</td>\n",
              "      <td>5</td>\n",
              "      <td>8</td>\n",
              "      <td>삼성전자</td>\n",
              "      <td>9</td>\n",
              "      <td>1</td>\n",
              "      <td>1</td>\n",
              "    </tr>\n",
              "    <tr>\n",
              "      <th>2</th>\n",
              "      <td>0ad104dbed99be0cd858aa772765ddedade554601a981b...</td>\n",
              "      <td>A005070</td>\n",
              "      <td>20180517</td>\n",
              "      <td>5</td>\n",
              "      <td>3.0</td>\n",
              "      <td>1</td>\n",
              "      <td>9</td>\n",
              "      <td>3</td>\n",
              "      <td>2</td>\n",
              "      <td>2</td>\n",
              "      <td>9</td>\n",
              "      <td>5</td>\n",
              "      <td>5</td>\n",
              "      <td>8</td>\n",
              "      <td>코스모신소재</td>\n",
              "      <td>12</td>\n",
              "      <td>2</td>\n",
              "      <td>99</td>\n",
              "    </tr>\n",
              "    <tr>\n",
              "      <th>3</th>\n",
              "      <td>0ad104dbed99be0cd858aa772765ddedade554601a981b...</td>\n",
              "      <td>A003520</td>\n",
              "      <td>20201112</td>\n",
              "      <td>22</td>\n",
              "      <td>13.0</td>\n",
              "      <td>1</td>\n",
              "      <td>9</td>\n",
              "      <td>3</td>\n",
              "      <td>2</td>\n",
              "      <td>2</td>\n",
              "      <td>9</td>\n",
              "      <td>5</td>\n",
              "      <td>5</td>\n",
              "      <td>8</td>\n",
              "      <td>영진약품</td>\n",
              "      <td>8</td>\n",
              "      <td>2</td>\n",
              "      <td>1</td>\n",
              "    </tr>\n",
              "    <tr>\n",
              "      <th>4</th>\n",
              "      <td>0ad104dbed99be0cd858aa772765ddedade554601a981b...</td>\n",
              "      <td>A002310</td>\n",
              "      <td>20180905</td>\n",
              "      <td>324</td>\n",
              "      <td>194.0</td>\n",
              "      <td>1</td>\n",
              "      <td>9</td>\n",
              "      <td>3</td>\n",
              "      <td>2</td>\n",
              "      <td>2</td>\n",
              "      <td>9</td>\n",
              "      <td>5</td>\n",
              "      <td>5</td>\n",
              "      <td>8</td>\n",
              "      <td>아세아제지</td>\n",
              "      <td>10</td>\n",
              "      <td>3</td>\n",
              "      <td>99</td>\n",
              "    </tr>\n",
              "  </tbody>\n",
              "</table>\n",
              "</div>"
            ],
            "text/plain": [
              "                                              act_id   iem_cd    byn_dt  \\\n",
              "0  0ad104dbed99be0cd858aa772765ddedade554601a981b...  A006360  20180726   \n",
              "1  0ad104dbed99be0cd858aa772765ddedade554601a981b...  A005930  20180131   \n",
              "2  0ad104dbed99be0cd858aa772765ddedade554601a981b...  A005070  20180517   \n",
              "3  0ad104dbed99be0cd858aa772765ddedade554601a981b...  A003520  20201112   \n",
              "4  0ad104dbed99be0cd858aa772765ddedade554601a981b...  A002310  20180905   \n",
              "\n",
              "   hold_d  hist_d  sex_dit_cd  cus_age_stn_cd  ivs_icn_cd  cus_aet_stn_cd  \\\n",
              "0      11     6.0           1               9           3               2   \n",
              "1      80    48.0           1               9           3               2   \n",
              "2       5     3.0           1               9           3               2   \n",
              "3      22    13.0           1               9           3               2   \n",
              "4     324   194.0           1               9           3               2   \n",
              "\n",
              "   mrz_pdt_tp_sgm_cd  lsg_sgm_cd  tco_cus_grd_cd  tot_ivs_te_sgm_cd  \\\n",
              "0                  2           9               5                  5   \n",
              "1                  2           9               5                  5   \n",
              "2                  2           9               5                  5   \n",
              "3                  2           9               5                  5   \n",
              "4                  2           9               5                  5   \n",
              "\n",
              "   mrz_btp_dit_cd iem_krl_nm  btp_cfc_cd  mkt_pr_tal_scl_tp_cd  stk_dit_cd  \n",
              "0               8       GS건설           1                     1           1  \n",
              "1               8       삼성전자           9                     1           1  \n",
              "2               8     코스모신소재          12                     2          99  \n",
              "3               8       영진약품           8                     2           1  \n",
              "4               8      아세아제지          10                     3          99  "
            ]
          },
          "metadata": {},
          "execution_count": 22
        }
      ]
    },
    {
      "cell_type": "code",
      "metadata": {
        "colab": {
          "base_uri": "https://localhost:8080/"
        },
        "id": "0fc-xt9KxDZr",
        "outputId": "c859a39b-a4c4-4c51-8748-9a27687fd193"
      },
      "source": [
        "train_data.isnull().sum()"
      ],
      "execution_count": 23,
      "outputs": [
        {
          "output_type": "execute_result",
          "data": {
            "text/plain": [
              "act_id                  0\n",
              "iem_cd                  0\n",
              "byn_dt                  0\n",
              "hold_d                  0\n",
              "hist_d                  0\n",
              "sex_dit_cd              0\n",
              "cus_age_stn_cd          0\n",
              "ivs_icn_cd              0\n",
              "cus_aet_stn_cd          0\n",
              "mrz_pdt_tp_sgm_cd       0\n",
              "lsg_sgm_cd              0\n",
              "tco_cus_grd_cd          0\n",
              "tot_ivs_te_sgm_cd       0\n",
              "mrz_btp_dit_cd          0\n",
              "iem_krl_nm              0\n",
              "btp_cfc_cd              0\n",
              "mkt_pr_tal_scl_tp_cd    0\n",
              "stk_dit_cd              0\n",
              "dtype: int64"
            ]
          },
          "metadata": {},
          "execution_count": 23
        }
      ]
    },
    {
      "cell_type": "code",
      "metadata": {
        "colab": {
          "base_uri": "https://localhost:8080/"
        },
        "id": "vSLbDoTo0mr8",
        "outputId": "673c9015-405a-48fc-fbe4-8dd467dd4861"
      },
      "source": [
        "train.head()\n",
        "train.duplicated(\"act_id\")\n",
        "print(train['act_id'].value_counts())\n",
        "cus['act_id'].value_counts()"
      ],
      "execution_count": 24,
      "outputs": [
        {
          "output_type": "stream",
          "name": "stdout",
          "text": [
            "fd3dfcf13c21834d2bd707bafea9e6c4d17fcc21a90ee6491e6249555344231b    8266\n",
            "6012ca0aa8039c4c282e0e63bcd6b223bcef0692883b90250303623444207d6b    4925\n",
            "16ddab629cc1a23c6981e110ced28f4b0fa7b372ca534143c0dac4caea519a23    2948\n",
            "79eb0719c09e59c1dd4ea0b77e5ab7c1a47069907b651d462eb26b03a369654a    2938\n",
            "c597944745f39a90957ad86d088610e71ca807a9d2c9e4d1ee2508bb759c3395    2243\n",
            "                                                                    ... \n",
            "67e7ae410c929aaf4b1789bc8048e5ec9b4e1d77990bcbded22bcdbfdf607ff3       1\n",
            "83f1927c5969e158edfe118e0d8428ae83807ddc659eb476199040218a48f100       1\n",
            "f9724f37751f408b4bbbe768b03b9a85a0ac5cad727bfdb8552d10771b26316a       1\n",
            "31cffdb69fe18ca06cd0044007f8793e18c6d5d28dfeeb0a4811d17f3fb8b796       1\n",
            "7058394c2c458f393d5a8438635ec66b9dc777afa3363dc402ce40d7481adad8       1\n",
            "Name: act_id, Length: 9337, dtype: int64\n"
          ]
        },
        {
          "output_type": "execute_result",
          "data": {
            "text/plain": [
              "e0c42f16f42a718231ba3213883680730c7d01042cfda0bdc5aa600a5ed76b30    1\n",
              "bd12ae1b2eee534021f2bb27a83b1b5fc783825577caaa16d805855ea2d5dcb6    1\n",
              "4abc63a8823f2613e10860e3c0639b81dcb56ca6558b5d94ee4c12aeedebe058    1\n",
              "f0b1fefef7c033c09d93316c832a1931ba0de6eb8cc2127ad6c20c15dd8be548    1\n",
              "ca66bbf3723e469952276780c185865e69615c3d62608fe1b630184af6445c5d    1\n",
              "                                                                   ..\n",
              "873814ca025ff88268392e1a207eac5c18a9c35c910f0608082a105b3596eaf3    1\n",
              "f403dab4b3077045e0c02391dfdb30bf45b9fa803711045892477bc613070f3b    1\n",
              "3c869a7413b8e622611c27f2b14d288f1367daee140249576c0786ab4d149c9d    1\n",
              "081826f947b9fb3287fd9f85ab748d045f3f5ed715213b301963b724de8a92a5    1\n",
              "db9f34814afba9309b3e703129a87c135b2ef8d30618cf9c85139de27e23d4f4    1\n",
              "Name: act_id, Length: 10000, dtype: int64"
            ]
          },
          "metadata": {},
          "execution_count": 24
        }
      ]
    },
    {
      "cell_type": "code",
      "metadata": {
        "id": "N2YqccGFmAfS"
      },
      "source": [
        "# train_data에서 Y값을 추출한 후 hold_d column을 지워주겠습니다.\n",
        "\n",
        "train_label = train_data[\"hold_d\"]\n",
        "train_data.drop([\"hold_d\"], axis = 1, inplace = True)"
      ],
      "execution_count": 25,
      "outputs": []
    },
    {
      "cell_type": "code",
      "metadata": {
        "colab": {
          "base_uri": "https://localhost:8080/"
        },
        "id": "G59eB8R9UYtN",
        "outputId": "44b14725-393d-488a-abac-e4fc691bf095"
      },
      "source": [
        "print(train_data.head())\n",
        "len(train_data)"
      ],
      "execution_count": 27,
      "outputs": [
        {
          "output_type": "stream",
          "name": "stdout",
          "text": [
            "                                              act_id   iem_cd    byn_dt  \\\n",
            "0  0ad104dbed99be0cd858aa772765ddedade554601a981b...  A006360  20180726   \n",
            "1  0ad104dbed99be0cd858aa772765ddedade554601a981b...  A005930  20180131   \n",
            "2  0ad104dbed99be0cd858aa772765ddedade554601a981b...  A005070  20180517   \n",
            "3  0ad104dbed99be0cd858aa772765ddedade554601a981b...  A003520  20201112   \n",
            "4  0ad104dbed99be0cd858aa772765ddedade554601a981b...  A002310  20180905   \n",
            "\n",
            "   hist_d  sex_dit_cd  cus_age_stn_cd  ivs_icn_cd  cus_aet_stn_cd  \\\n",
            "0     6.0           1               9           3               2   \n",
            "1    48.0           1               9           3               2   \n",
            "2     3.0           1               9           3               2   \n",
            "3    13.0           1               9           3               2   \n",
            "4   194.0           1               9           3               2   \n",
            "\n",
            "   mrz_pdt_tp_sgm_cd  lsg_sgm_cd  tco_cus_grd_cd  tot_ivs_te_sgm_cd  \\\n",
            "0                  2           9               5                  5   \n",
            "1                  2           9               5                  5   \n",
            "2                  2           9               5                  5   \n",
            "3                  2           9               5                  5   \n",
            "4                  2           9               5                  5   \n",
            "\n",
            "   mrz_btp_dit_cd iem_krl_nm  btp_cfc_cd  mkt_pr_tal_scl_tp_cd  stk_dit_cd  \n",
            "0               8       GS건설           1                     1           1  \n",
            "1               8       삼성전자           9                     1           1  \n",
            "2               8     코스모신소재          12                     2          99  \n",
            "3               8       영진약품           8                     2           1  \n",
            "4               8      아세아제지          10                     3          99  \n"
          ]
        },
        {
          "output_type": "execute_result",
          "data": {
            "text/plain": [
              "681472"
            ]
          },
          "metadata": {},
          "execution_count": 27
        }
      ]
    },
    {
      "cell_type": "code",
      "metadata": {
        "id": "NQvm9X7Bm0r_"
      },
      "source": [
        "# 추가적으로 약간의 전처리를 통해 train data와 test data를 구성하겠습니다.\n",
        "\n",
        "hist[\"stk_p\"] = hist[\"tot_aet_amt\"] / hist[\"bnc_qty\"] # 주가 \n",
        "hist = hist.fillna(0) # 결측값 0으로 채우기 \n",
        "\n",
        "train_data = pd.merge(train_data, hist, how = \"left\", on = [\"act_id\", \"iem_cd\"]) # 사람과 종목이름이 같으면, 조인연산\n",
        "train_data = train_data[(train_data[\"byn_dt\"] == train_data[\"bse_dt\"])] # 매수일자 = 기준일자 같은것만 train_data\n",
        "train_data.reset_index(drop = True, inplace = True) # 행 인덱스 초기화\n",
        "\n",
        "test_data = pd.merge(test_data, hist, how = \"left\", on = [\"act_id\", \"iem_cd\"])\n",
        "test_data = test_data[(test_data[\"byn_dt\"] == test_data[\"bse_dt\"])]\n",
        "test_data.reset_index(drop = True, inplace = True)\n",
        "\n",
        "train_data = train_data.drop([\"act_id\", \"iem_cd\", \"byn_dt\", \"bse_dt\"], axis = 1)\n",
        "test_data = test_data.drop([\"act_id\", \"iem_cd\", \"byn_dt\", \"submit_id\", \"hold_d\", \"bse_dt\"], axis = 1)\n",
        "\n",
        "L_encoder = LabelEncoder()\n",
        "L_encoder.fit(iem[\"iem_krl_nm\"])\n",
        "train_data[\"iem_krl_nm\"] = L_encoder.transform(train_data[\"iem_krl_nm\"])\n",
        "test_data[\"iem_krl_nm\"] = L_encoder.transform(test_data[\"iem_krl_nm\"])"
      ],
      "execution_count": 28,
      "outputs": []
    },
    {
      "cell_type": "code",
      "metadata": {
        "colab": {
          "base_uri": "https://localhost:8080/",
          "height": 224
        },
        "id": "SQIQcB_qUe3x",
        "outputId": "c3727490-2a47-43f4-d187-046292ea055a"
      },
      "source": [
        "train_data.head()"
      ],
      "execution_count": 29,
      "outputs": [
        {
          "output_type": "execute_result",
          "data": {
            "text/html": [
              "<div>\n",
              "<style scoped>\n",
              "    .dataframe tbody tr th:only-of-type {\n",
              "        vertical-align: middle;\n",
              "    }\n",
              "\n",
              "    .dataframe tbody tr th {\n",
              "        vertical-align: top;\n",
              "    }\n",
              "\n",
              "    .dataframe thead th {\n",
              "        text-align: right;\n",
              "    }\n",
              "</style>\n",
              "<table border=\"1\" class=\"dataframe\">\n",
              "  <thead>\n",
              "    <tr style=\"text-align: right;\">\n",
              "      <th></th>\n",
              "      <th>hist_d</th>\n",
              "      <th>sex_dit_cd</th>\n",
              "      <th>cus_age_stn_cd</th>\n",
              "      <th>ivs_icn_cd</th>\n",
              "      <th>cus_aet_stn_cd</th>\n",
              "      <th>mrz_pdt_tp_sgm_cd</th>\n",
              "      <th>lsg_sgm_cd</th>\n",
              "      <th>tco_cus_grd_cd</th>\n",
              "      <th>tot_ivs_te_sgm_cd</th>\n",
              "      <th>mrz_btp_dit_cd</th>\n",
              "      <th>iem_krl_nm</th>\n",
              "      <th>btp_cfc_cd</th>\n",
              "      <th>mkt_pr_tal_scl_tp_cd</th>\n",
              "      <th>stk_dit_cd</th>\n",
              "      <th>bnc_qty</th>\n",
              "      <th>tot_aet_amt</th>\n",
              "      <th>stk_par_pr</th>\n",
              "      <th>stk_p</th>\n",
              "    </tr>\n",
              "  </thead>\n",
              "  <tbody>\n",
              "    <tr>\n",
              "      <th>0</th>\n",
              "      <td>6.0</td>\n",
              "      <td>1</td>\n",
              "      <td>9</td>\n",
              "      <td>3</td>\n",
              "      <td>2</td>\n",
              "      <td>2</td>\n",
              "      <td>9</td>\n",
              "      <td>5</td>\n",
              "      <td>5</td>\n",
              "      <td>8</td>\n",
              "      <td>101</td>\n",
              "      <td>1</td>\n",
              "      <td>1</td>\n",
              "      <td>1</td>\n",
              "      <td>274.0</td>\n",
              "      <td>11782000.0</td>\n",
              "      <td>5000.0</td>\n",
              "      <td>43000.0</td>\n",
              "    </tr>\n",
              "    <tr>\n",
              "      <th>1</th>\n",
              "      <td>48.0</td>\n",
              "      <td>1</td>\n",
              "      <td>9</td>\n",
              "      <td>3</td>\n",
              "      <td>2</td>\n",
              "      <td>2</td>\n",
              "      <td>9</td>\n",
              "      <td>5</td>\n",
              "      <td>5</td>\n",
              "      <td>8</td>\n",
              "      <td>1361</td>\n",
              "      <td>9</td>\n",
              "      <td>1</td>\n",
              "      <td>1</td>\n",
              "      <td>2.0</td>\n",
              "      <td>4990000.0</td>\n",
              "      <td>5000.0</td>\n",
              "      <td>2495000.0</td>\n",
              "    </tr>\n",
              "    <tr>\n",
              "      <th>2</th>\n",
              "      <td>3.0</td>\n",
              "      <td>1</td>\n",
              "      <td>9</td>\n",
              "      <td>3</td>\n",
              "      <td>2</td>\n",
              "      <td>2</td>\n",
              "      <td>9</td>\n",
              "      <td>5</td>\n",
              "      <td>5</td>\n",
              "      <td>8</td>\n",
              "      <td>2530</td>\n",
              "      <td>12</td>\n",
              "      <td>2</td>\n",
              "      <td>99</td>\n",
              "      <td>786.0</td>\n",
              "      <td>14619600.0</td>\n",
              "      <td>1000.0</td>\n",
              "      <td>18600.0</td>\n",
              "    </tr>\n",
              "    <tr>\n",
              "      <th>3</th>\n",
              "      <td>13.0</td>\n",
              "      <td>1</td>\n",
              "      <td>9</td>\n",
              "      <td>3</td>\n",
              "      <td>2</td>\n",
              "      <td>2</td>\n",
              "      <td>9</td>\n",
              "      <td>5</td>\n",
              "      <td>5</td>\n",
              "      <td>8</td>\n",
              "      <td>1969</td>\n",
              "      <td>8</td>\n",
              "      <td>2</td>\n",
              "      <td>1</td>\n",
              "      <td>60.0</td>\n",
              "      <td>462000.0</td>\n",
              "      <td>500.0</td>\n",
              "      <td>7700.0</td>\n",
              "    </tr>\n",
              "    <tr>\n",
              "      <th>4</th>\n",
              "      <td>194.0</td>\n",
              "      <td>1</td>\n",
              "      <td>9</td>\n",
              "      <td>3</td>\n",
              "      <td>2</td>\n",
              "      <td>2</td>\n",
              "      <td>9</td>\n",
              "      <td>5</td>\n",
              "      <td>5</td>\n",
              "      <td>8</td>\n",
              "      <td>1696</td>\n",
              "      <td>10</td>\n",
              "      <td>3</td>\n",
              "      <td>99</td>\n",
              "      <td>183.0</td>\n",
              "      <td>8125200.0</td>\n",
              "      <td>5000.0</td>\n",
              "      <td>44400.0</td>\n",
              "    </tr>\n",
              "  </tbody>\n",
              "</table>\n",
              "</div>"
            ],
            "text/plain": [
              "   hist_d  sex_dit_cd  cus_age_stn_cd  ivs_icn_cd  cus_aet_stn_cd  \\\n",
              "0     6.0           1               9           3               2   \n",
              "1    48.0           1               9           3               2   \n",
              "2     3.0           1               9           3               2   \n",
              "3    13.0           1               9           3               2   \n",
              "4   194.0           1               9           3               2   \n",
              "\n",
              "   mrz_pdt_tp_sgm_cd  lsg_sgm_cd  tco_cus_grd_cd  tot_ivs_te_sgm_cd  \\\n",
              "0                  2           9               5                  5   \n",
              "1                  2           9               5                  5   \n",
              "2                  2           9               5                  5   \n",
              "3                  2           9               5                  5   \n",
              "4                  2           9               5                  5   \n",
              "\n",
              "   mrz_btp_dit_cd  iem_krl_nm  btp_cfc_cd  mkt_pr_tal_scl_tp_cd  stk_dit_cd  \\\n",
              "0               8         101           1                     1           1   \n",
              "1               8        1361           9                     1           1   \n",
              "2               8        2530          12                     2          99   \n",
              "3               8        1969           8                     2           1   \n",
              "4               8        1696          10                     3          99   \n",
              "\n",
              "   bnc_qty  tot_aet_amt  stk_par_pr      stk_p  \n",
              "0    274.0   11782000.0      5000.0    43000.0  \n",
              "1      2.0    4990000.0      5000.0  2495000.0  \n",
              "2    786.0   14619600.0      1000.0    18600.0  \n",
              "3     60.0     462000.0       500.0     7700.0  \n",
              "4    183.0    8125200.0      5000.0    44400.0  "
            ]
          },
          "metadata": {},
          "execution_count": 29
        }
      ]
    },
    {
      "cell_type": "code",
      "metadata": {
        "id": "-Lmm6FJYmAcP"
      },
      "source": [
        "train_data.reset_index(drop = True, inplace=True)\n",
        "train_label.reset_index(drop = True, inplace=True)"
      ],
      "execution_count": 30,
      "outputs": []
    },
    {
      "cell_type": "code",
      "metadata": {
        "colab": {
          "base_uri": "https://localhost:8080/",
          "height": 100
        },
        "id": "aSRnrFtH7N8B",
        "outputId": "dd3b8386-a1c6-45a3-f1e6-870d9274657d"
      },
      "source": [
        "train_data.head(1)"
      ],
      "execution_count": 31,
      "outputs": [
        {
          "output_type": "execute_result",
          "data": {
            "text/html": [
              "<div>\n",
              "<style scoped>\n",
              "    .dataframe tbody tr th:only-of-type {\n",
              "        vertical-align: middle;\n",
              "    }\n",
              "\n",
              "    .dataframe tbody tr th {\n",
              "        vertical-align: top;\n",
              "    }\n",
              "\n",
              "    .dataframe thead th {\n",
              "        text-align: right;\n",
              "    }\n",
              "</style>\n",
              "<table border=\"1\" class=\"dataframe\">\n",
              "  <thead>\n",
              "    <tr style=\"text-align: right;\">\n",
              "      <th></th>\n",
              "      <th>hist_d</th>\n",
              "      <th>sex_dit_cd</th>\n",
              "      <th>cus_age_stn_cd</th>\n",
              "      <th>ivs_icn_cd</th>\n",
              "      <th>cus_aet_stn_cd</th>\n",
              "      <th>mrz_pdt_tp_sgm_cd</th>\n",
              "      <th>lsg_sgm_cd</th>\n",
              "      <th>tco_cus_grd_cd</th>\n",
              "      <th>tot_ivs_te_sgm_cd</th>\n",
              "      <th>mrz_btp_dit_cd</th>\n",
              "      <th>iem_krl_nm</th>\n",
              "      <th>btp_cfc_cd</th>\n",
              "      <th>mkt_pr_tal_scl_tp_cd</th>\n",
              "      <th>stk_dit_cd</th>\n",
              "      <th>bnc_qty</th>\n",
              "      <th>tot_aet_amt</th>\n",
              "      <th>stk_par_pr</th>\n",
              "      <th>stk_p</th>\n",
              "    </tr>\n",
              "  </thead>\n",
              "  <tbody>\n",
              "    <tr>\n",
              "      <th>0</th>\n",
              "      <td>6.0</td>\n",
              "      <td>1</td>\n",
              "      <td>9</td>\n",
              "      <td>3</td>\n",
              "      <td>2</td>\n",
              "      <td>2</td>\n",
              "      <td>9</td>\n",
              "      <td>5</td>\n",
              "      <td>5</td>\n",
              "      <td>8</td>\n",
              "      <td>101</td>\n",
              "      <td>1</td>\n",
              "      <td>1</td>\n",
              "      <td>1</td>\n",
              "      <td>274.0</td>\n",
              "      <td>11782000.0</td>\n",
              "      <td>5000.0</td>\n",
              "      <td>43000.0</td>\n",
              "    </tr>\n",
              "  </tbody>\n",
              "</table>\n",
              "</div>"
            ],
            "text/plain": [
              "   hist_d  sex_dit_cd  cus_age_stn_cd  ivs_icn_cd  cus_aet_stn_cd  \\\n",
              "0     6.0           1               9           3               2   \n",
              "\n",
              "   mrz_pdt_tp_sgm_cd  lsg_sgm_cd  tco_cus_grd_cd  tot_ivs_te_sgm_cd  \\\n",
              "0                  2           9               5                  5   \n",
              "\n",
              "   mrz_btp_dit_cd  iem_krl_nm  btp_cfc_cd  mkt_pr_tal_scl_tp_cd  stk_dit_cd  \\\n",
              "0               8         101           1                     1           1   \n",
              "\n",
              "   bnc_qty  tot_aet_amt  stk_par_pr    stk_p  \n",
              "0    274.0   11782000.0      5000.0  43000.0  "
            ]
          },
          "metadata": {},
          "execution_count": 31
        }
      ]
    },
    {
      "cell_type": "code",
      "metadata": {
        "colab": {
          "base_uri": "https://localhost:8080/"
        },
        "id": "-JgbhIc5mAM7",
        "outputId": "97511c23-52e3-4efc-e2a5-c1be1ed3aa27"
      },
      "source": [
        "models = []\n",
        "\n",
        "folds = KFold(n_splits=10)\n",
        "for train_idx, val_idx in folds.split(train_data):\n",
        "    \n",
        "    train_x = train_data.iloc[train_idx, :]\n",
        "    train_y = train_label[train_idx]\n",
        "    val_x = train_data.iloc[val_idx, :]\n",
        "    val_y = train_label[val_idx]\n",
        "    \n",
        "    model = LGBMRegressor(objective= \"regression\",\n",
        "                          max_depth= 5,\n",
        "                          n_estimators= 2000,\n",
        "                          learning_rate= 0.01,\n",
        "                          num_leaves = 31)\n",
        "    \n",
        "    model.fit(train_x, train_y,\n",
        "              eval_set=[(val_x, val_y)],\n",
        "              eval_metric=[\"rmse\"],\n",
        "              early_stopping_rounds=300,\n",
        "              verbose=500)\n",
        "    \n",
        "    models.append(model)"
      ],
      "execution_count": 32,
      "outputs": [
        {
          "output_type": "stream",
          "name": "stdout",
          "text": [
            "Training until validation scores don't improve for 300 rounds.\n",
            "[500]\tvalid_0's l2: 17.842\tvalid_0's rmse: 4.22398\n",
            "[1000]\tvalid_0's l2: 16.624\tvalid_0's rmse: 4.07726\n",
            "[1500]\tvalid_0's l2: 16.3445\tvalid_0's rmse: 4.04283\n",
            "[2000]\tvalid_0's l2: 16.1574\tvalid_0's rmse: 4.01963\n",
            "Did not meet early stopping. Best iteration is:\n",
            "[1998]\tvalid_0's l2: 16.1555\tvalid_0's rmse: 4.01939\n",
            "Training until validation scores don't improve for 300 rounds.\n",
            "[500]\tvalid_0's l2: 1.67409\tvalid_0's rmse: 1.29387\n",
            "[1000]\tvalid_0's l2: 1.66703\tvalid_0's rmse: 1.29113\n",
            "Early stopping, best iteration is:\n",
            "[733]\tvalid_0's l2: 1.39706\tvalid_0's rmse: 1.18197\n",
            "Training until validation scores don't improve for 300 rounds.\n",
            "[500]\tvalid_0's l2: 0.465223\tvalid_0's rmse: 0.682073\n",
            "[1000]\tvalid_0's l2: 0.230714\tvalid_0's rmse: 0.480327\n",
            "Early stopping, best iteration is:\n",
            "[764]\tvalid_0's l2: 0.229322\tvalid_0's rmse: 0.478875\n",
            "Training until validation scores don't improve for 300 rounds.\n",
            "[500]\tvalid_0's l2: 0.329605\tvalid_0's rmse: 0.574113\n",
            "[1000]\tvalid_0's l2: 0.172084\tvalid_0's rmse: 0.41483\n",
            "Early stopping, best iteration is:\n",
            "[1003]\tvalid_0's l2: 0.172043\tvalid_0's rmse: 0.414781\n",
            "Training until validation scores don't improve for 300 rounds.\n",
            "[500]\tvalid_0's l2: 0.296419\tvalid_0's rmse: 0.544444\n",
            "[1000]\tvalid_0's l2: 0.161005\tvalid_0's rmse: 0.401254\n",
            "Early stopping, best iteration is:\n",
            "[984]\tvalid_0's l2: 0.160987\tvalid_0's rmse: 0.401231\n",
            "Training until validation scores don't improve for 300 rounds.\n",
            "[500]\tvalid_0's l2: 0.259997\tvalid_0's rmse: 0.509899\n",
            "[1000]\tvalid_0's l2: 0.159239\tvalid_0's rmse: 0.399048\n",
            "Early stopping, best iteration is:\n",
            "[991]\tvalid_0's l2: 0.159238\tvalid_0's rmse: 0.399046\n",
            "Training until validation scores don't improve for 300 rounds.\n",
            "[500]\tvalid_0's l2: 0.201793\tvalid_0's rmse: 0.449214\n",
            "[1000]\tvalid_0's l2: 0.144386\tvalid_0's rmse: 0.379982\n",
            "Early stopping, best iteration is:\n",
            "[1065]\tvalid_0's l2: 0.144384\tvalid_0's rmse: 0.379979\n",
            "Training until validation scores don't improve for 300 rounds.\n",
            "[500]\tvalid_0's l2: 0.182453\tvalid_0's rmse: 0.427145\n",
            "[1000]\tvalid_0's l2: 0.144274\tvalid_0's rmse: 0.379834\n",
            "[1500]\tvalid_0's l2: 0.144249\tvalid_0's rmse: 0.379801\n",
            "Early stopping, best iteration is:\n",
            "[1568]\tvalid_0's l2: 0.144248\tvalid_0's rmse: 0.3798\n",
            "Training until validation scores don't improve for 300 rounds.\n",
            "[500]\tvalid_0's l2: 0.168628\tvalid_0's rmse: 0.410643\n",
            "[1000]\tvalid_0's l2: 0.145987\tvalid_0's rmse: 0.382082\n",
            "Early stopping, best iteration is:\n",
            "[821]\tvalid_0's l2: 0.145967\tvalid_0's rmse: 0.382056\n",
            "Training until validation scores don't improve for 300 rounds.\n",
            "[500]\tvalid_0's l2: 0.27404\tvalid_0's rmse: 0.523488\n",
            "[1000]\tvalid_0's l2: 0.291088\tvalid_0's rmse: 0.539526\n",
            "Early stopping, best iteration is:\n",
            "[727]\tvalid_0's l2: 0.258928\tvalid_0's rmse: 0.50885\n"
          ]
        }
      ]
    },
    {
      "cell_type": "code",
      "metadata": {
        "id": "3XxJ5103oRpj"
      },
      "source": [
        "result = []\n",
        "for i in models:\n",
        "    result.append(i.predict(test_data))\n",
        "predict = np.mean(result, axis = 0)"
      ],
      "execution_count": 33,
      "outputs": []
    },
    {
      "cell_type": "code",
      "metadata": {
        "id": "snnEDHbGoRjz"
      },
      "source": [
        "submission[\"hold_d\"] = np.round(predict)"
      ],
      "execution_count": 34,
      "outputs": []
    },
    {
      "cell_type": "code",
      "metadata": {
        "id": "IWWT-xIXoRdc"
      },
      "source": [
        "submission.to_csv(\"dacon_baseline.csv\", index = False)"
      ],
      "execution_count": 35,
      "outputs": []
    },
    {
      "cell_type": "code",
      "metadata": {
        "colab": {
          "base_uri": "https://localhost:8080/",
          "height": 224
        },
        "id": "55NVK1QYXdDz",
        "outputId": "d7efa99f-ce54-49bd-b212-aa48bceb7bdd"
      },
      "source": [
        "train_data.head()\n"
      ],
      "execution_count": 50,
      "outputs": [
        {
          "output_type": "execute_result",
          "data": {
            "text/html": [
              "<div>\n",
              "<style scoped>\n",
              "    .dataframe tbody tr th:only-of-type {\n",
              "        vertical-align: middle;\n",
              "    }\n",
              "\n",
              "    .dataframe tbody tr th {\n",
              "        vertical-align: top;\n",
              "    }\n",
              "\n",
              "    .dataframe thead th {\n",
              "        text-align: right;\n",
              "    }\n",
              "</style>\n",
              "<table border=\"1\" class=\"dataframe\">\n",
              "  <thead>\n",
              "    <tr style=\"text-align: right;\">\n",
              "      <th></th>\n",
              "      <th>hist_d</th>\n",
              "      <th>sex_dit_cd</th>\n",
              "      <th>cus_age_stn_cd</th>\n",
              "      <th>ivs_icn_cd</th>\n",
              "      <th>cus_aet_stn_cd</th>\n",
              "      <th>mrz_pdt_tp_sgm_cd</th>\n",
              "      <th>lsg_sgm_cd</th>\n",
              "      <th>tco_cus_grd_cd</th>\n",
              "      <th>tot_ivs_te_sgm_cd</th>\n",
              "      <th>mrz_btp_dit_cd</th>\n",
              "      <th>iem_krl_nm</th>\n",
              "      <th>btp_cfc_cd</th>\n",
              "      <th>mkt_pr_tal_scl_tp_cd</th>\n",
              "      <th>stk_dit_cd</th>\n",
              "      <th>bnc_qty</th>\n",
              "      <th>tot_aet_amt</th>\n",
              "      <th>stk_par_pr</th>\n",
              "      <th>stk_p</th>\n",
              "    </tr>\n",
              "  </thead>\n",
              "  <tbody>\n",
              "    <tr>\n",
              "      <th>0</th>\n",
              "      <td>6.0</td>\n",
              "      <td>1</td>\n",
              "      <td>9</td>\n",
              "      <td>3</td>\n",
              "      <td>2</td>\n",
              "      <td>2</td>\n",
              "      <td>9</td>\n",
              "      <td>5</td>\n",
              "      <td>5</td>\n",
              "      <td>8</td>\n",
              "      <td>101</td>\n",
              "      <td>1</td>\n",
              "      <td>1</td>\n",
              "      <td>1</td>\n",
              "      <td>274.0</td>\n",
              "      <td>11782000.0</td>\n",
              "      <td>5000.0</td>\n",
              "      <td>43000.0</td>\n",
              "    </tr>\n",
              "    <tr>\n",
              "      <th>1</th>\n",
              "      <td>48.0</td>\n",
              "      <td>1</td>\n",
              "      <td>9</td>\n",
              "      <td>3</td>\n",
              "      <td>2</td>\n",
              "      <td>2</td>\n",
              "      <td>9</td>\n",
              "      <td>5</td>\n",
              "      <td>5</td>\n",
              "      <td>8</td>\n",
              "      <td>1361</td>\n",
              "      <td>9</td>\n",
              "      <td>1</td>\n",
              "      <td>1</td>\n",
              "      <td>2.0</td>\n",
              "      <td>4990000.0</td>\n",
              "      <td>5000.0</td>\n",
              "      <td>2495000.0</td>\n",
              "    </tr>\n",
              "    <tr>\n",
              "      <th>2</th>\n",
              "      <td>3.0</td>\n",
              "      <td>1</td>\n",
              "      <td>9</td>\n",
              "      <td>3</td>\n",
              "      <td>2</td>\n",
              "      <td>2</td>\n",
              "      <td>9</td>\n",
              "      <td>5</td>\n",
              "      <td>5</td>\n",
              "      <td>8</td>\n",
              "      <td>2530</td>\n",
              "      <td>12</td>\n",
              "      <td>2</td>\n",
              "      <td>99</td>\n",
              "      <td>786.0</td>\n",
              "      <td>14619600.0</td>\n",
              "      <td>1000.0</td>\n",
              "      <td>18600.0</td>\n",
              "    </tr>\n",
              "    <tr>\n",
              "      <th>3</th>\n",
              "      <td>13.0</td>\n",
              "      <td>1</td>\n",
              "      <td>9</td>\n",
              "      <td>3</td>\n",
              "      <td>2</td>\n",
              "      <td>2</td>\n",
              "      <td>9</td>\n",
              "      <td>5</td>\n",
              "      <td>5</td>\n",
              "      <td>8</td>\n",
              "      <td>1969</td>\n",
              "      <td>8</td>\n",
              "      <td>2</td>\n",
              "      <td>1</td>\n",
              "      <td>60.0</td>\n",
              "      <td>462000.0</td>\n",
              "      <td>500.0</td>\n",
              "      <td>7700.0</td>\n",
              "    </tr>\n",
              "    <tr>\n",
              "      <th>4</th>\n",
              "      <td>194.0</td>\n",
              "      <td>1</td>\n",
              "      <td>9</td>\n",
              "      <td>3</td>\n",
              "      <td>2</td>\n",
              "      <td>2</td>\n",
              "      <td>9</td>\n",
              "      <td>5</td>\n",
              "      <td>5</td>\n",
              "      <td>8</td>\n",
              "      <td>1696</td>\n",
              "      <td>10</td>\n",
              "      <td>3</td>\n",
              "      <td>99</td>\n",
              "      <td>183.0</td>\n",
              "      <td>8125200.0</td>\n",
              "      <td>5000.0</td>\n",
              "      <td>44400.0</td>\n",
              "    </tr>\n",
              "  </tbody>\n",
              "</table>\n",
              "</div>"
            ],
            "text/plain": [
              "   hist_d  sex_dit_cd  cus_age_stn_cd  ivs_icn_cd  cus_aet_stn_cd  \\\n",
              "0     6.0           1               9           3               2   \n",
              "1    48.0           1               9           3               2   \n",
              "2     3.0           1               9           3               2   \n",
              "3    13.0           1               9           3               2   \n",
              "4   194.0           1               9           3               2   \n",
              "\n",
              "   mrz_pdt_tp_sgm_cd  lsg_sgm_cd  tco_cus_grd_cd  tot_ivs_te_sgm_cd  \\\n",
              "0                  2           9               5                  5   \n",
              "1                  2           9               5                  5   \n",
              "2                  2           9               5                  5   \n",
              "3                  2           9               5                  5   \n",
              "4                  2           9               5                  5   \n",
              "\n",
              "   mrz_btp_dit_cd  iem_krl_nm  btp_cfc_cd  mkt_pr_tal_scl_tp_cd  stk_dit_cd  \\\n",
              "0               8         101           1                     1           1   \n",
              "1               8        1361           9                     1           1   \n",
              "2               8        2530          12                     2          99   \n",
              "3               8        1969           8                     2           1   \n",
              "4               8        1696          10                     3          99   \n",
              "\n",
              "   bnc_qty  tot_aet_amt  stk_par_pr      stk_p  \n",
              "0    274.0   11782000.0      5000.0    43000.0  \n",
              "1      2.0    4990000.0      5000.0  2495000.0  \n",
              "2    786.0   14619600.0      1000.0    18600.0  \n",
              "3     60.0     462000.0       500.0     7700.0  \n",
              "4    183.0    8125200.0      5000.0    44400.0  "
            ]
          },
          "metadata": {},
          "execution_count": 50
        }
      ]
    },
    {
      "cell_type": "code",
      "metadata": {
        "colab": {
          "base_uri": "https://localhost:8080/"
        },
        "id": "xlA02sSzaFNI",
        "outputId": "6ca047ff-2ae1-41f7-f7c6-26982d02ba0c"
      },
      "source": [
        "from sklearn.metrics import mean_squared_error\n",
        "rmse_full_mod = mean_squared_error(model.predict(val_x), val_y, squared = False)\n",
        "\n",
        "rmse_full_mod"
      ],
      "execution_count": 45,
      "outputs": [
        {
          "output_type": "execute_result",
          "data": {
            "text/plain": [
              "0.50885013573449"
            ]
          },
          "metadata": {},
          "execution_count": 45
        }
      ]
    },
    {
      "cell_type": "code",
      "metadata": {
        "id": "Ut-cAjEmac-o"
      },
      "source": [
        "# Initialize a list of results\n",
        "results = []\n",
        "# Iterate through each predictor\n",
        "for predictor in val_x:\n",
        "    \n",
        "    # Create a copy of X_test\n",
        "    X_test_copy = val_x.copy()\n",
        "    \n",
        "    # Scramble the values of the given predictor\n",
        "    X_test_copy[predictor] = val_x[predictor].sample(frac=1).values\n",
        "    \n",
        "    # Calculate the new RMSE\n",
        "    new_rmse = mean_squared_error(model.predict(X_test_copy), val_y,\n",
        "                                  squared = False)\n",
        "    \n",
        "    # Append the increase in MSE to the list of results \n",
        "    results.append({'pred': predictor,\n",
        "                    'score': new_rmse - rmse_full_mod })\n",
        "# Convert to a pandas dataframe and rank the predictors by score\n",
        "resultsdf = pd.DataFrame(results).sort_values(by = 'score',\n",
        "                                              ascending = False)\n"
      ],
      "execution_count": 48,
      "outputs": []
    },
    {
      "cell_type": "code",
      "metadata": {
        "colab": {
          "base_uri": "https://localhost:8080/",
          "height": 607
        },
        "id": "2I4D-68ia2t5",
        "outputId": "443b1a79-f40f-4623-8d91-333fb8ae7dbd"
      },
      "source": [
        "resultsdf"
      ],
      "execution_count": 49,
      "outputs": [
        {
          "output_type": "execute_result",
          "data": {
            "text/html": [
              "<div>\n",
              "<style scoped>\n",
              "    .dataframe tbody tr th:only-of-type {\n",
              "        vertical-align: middle;\n",
              "    }\n",
              "\n",
              "    .dataframe tbody tr th {\n",
              "        vertical-align: top;\n",
              "    }\n",
              "\n",
              "    .dataframe thead th {\n",
              "        text-align: right;\n",
              "    }\n",
              "</style>\n",
              "<table border=\"1\" class=\"dataframe\">\n",
              "  <thead>\n",
              "    <tr style=\"text-align: right;\">\n",
              "      <th></th>\n",
              "      <th>pred</th>\n",
              "      <th>score</th>\n",
              "    </tr>\n",
              "  </thead>\n",
              "  <tbody>\n",
              "    <tr>\n",
              "      <th>0</th>\n",
              "      <td>hist_d</td>\n",
              "      <td>2.993059e+01</td>\n",
              "    </tr>\n",
              "    <tr>\n",
              "      <th>2</th>\n",
              "      <td>cus_age_stn_cd</td>\n",
              "      <td>2.859778e-02</td>\n",
              "    </tr>\n",
              "    <tr>\n",
              "      <th>17</th>\n",
              "      <td>stk_p</td>\n",
              "      <td>2.145931e-02</td>\n",
              "    </tr>\n",
              "    <tr>\n",
              "      <th>1</th>\n",
              "      <td>sex_dit_cd</td>\n",
              "      <td>1.187111e-02</td>\n",
              "    </tr>\n",
              "    <tr>\n",
              "      <th>9</th>\n",
              "      <td>mrz_btp_dit_cd</td>\n",
              "      <td>9.513528e-03</td>\n",
              "    </tr>\n",
              "    <tr>\n",
              "      <th>7</th>\n",
              "      <td>tco_cus_grd_cd</td>\n",
              "      <td>3.894071e-03</td>\n",
              "    </tr>\n",
              "    <tr>\n",
              "      <th>4</th>\n",
              "      <td>cus_aet_stn_cd</td>\n",
              "      <td>3.922477e-05</td>\n",
              "    </tr>\n",
              "    <tr>\n",
              "      <th>16</th>\n",
              "      <td>stk_par_pr</td>\n",
              "      <td>5.213474e-06</td>\n",
              "    </tr>\n",
              "    <tr>\n",
              "      <th>12</th>\n",
              "      <td>mkt_pr_tal_scl_tp_cd</td>\n",
              "      <td>5.069629e-06</td>\n",
              "    </tr>\n",
              "    <tr>\n",
              "      <th>13</th>\n",
              "      <td>stk_dit_cd</td>\n",
              "      <td>1.523411e-06</td>\n",
              "    </tr>\n",
              "    <tr>\n",
              "      <th>11</th>\n",
              "      <td>btp_cfc_cd</td>\n",
              "      <td>1.342646e-06</td>\n",
              "    </tr>\n",
              "    <tr>\n",
              "      <th>6</th>\n",
              "      <td>lsg_sgm_cd</td>\n",
              "      <td>4.233644e-07</td>\n",
              "    </tr>\n",
              "    <tr>\n",
              "      <th>5</th>\n",
              "      <td>mrz_pdt_tp_sgm_cd</td>\n",
              "      <td>1.628961e-07</td>\n",
              "    </tr>\n",
              "    <tr>\n",
              "      <th>10</th>\n",
              "      <td>iem_krl_nm</td>\n",
              "      <td>-1.706365e-07</td>\n",
              "    </tr>\n",
              "    <tr>\n",
              "      <th>3</th>\n",
              "      <td>ivs_icn_cd</td>\n",
              "      <td>-6.668924e-07</td>\n",
              "    </tr>\n",
              "    <tr>\n",
              "      <th>14</th>\n",
              "      <td>bnc_qty</td>\n",
              "      <td>-9.577815e-04</td>\n",
              "    </tr>\n",
              "    <tr>\n",
              "      <th>15</th>\n",
              "      <td>tot_aet_amt</td>\n",
              "      <td>-6.901220e-02</td>\n",
              "    </tr>\n",
              "    <tr>\n",
              "      <th>8</th>\n",
              "      <td>tot_ivs_te_sgm_cd</td>\n",
              "      <td>-8.409160e-02</td>\n",
              "    </tr>\n",
              "  </tbody>\n",
              "</table>\n",
              "</div>"
            ],
            "text/plain": [
              "                    pred         score\n",
              "0                 hist_d  2.993059e+01\n",
              "2         cus_age_stn_cd  2.859778e-02\n",
              "17                 stk_p  2.145931e-02\n",
              "1             sex_dit_cd  1.187111e-02\n",
              "9         mrz_btp_dit_cd  9.513528e-03\n",
              "7         tco_cus_grd_cd  3.894071e-03\n",
              "4         cus_aet_stn_cd  3.922477e-05\n",
              "16            stk_par_pr  5.213474e-06\n",
              "12  mkt_pr_tal_scl_tp_cd  5.069629e-06\n",
              "13            stk_dit_cd  1.523411e-06\n",
              "11            btp_cfc_cd  1.342646e-06\n",
              "6             lsg_sgm_cd  4.233644e-07\n",
              "5      mrz_pdt_tp_sgm_cd  1.628961e-07\n",
              "10            iem_krl_nm -1.706365e-07\n",
              "3             ivs_icn_cd -6.668924e-07\n",
              "14               bnc_qty -9.577815e-04\n",
              "15           tot_aet_amt -6.901220e-02\n",
              "8      tot_ivs_te_sgm_cd -8.409160e-02"
            ]
          },
          "metadata": {},
          "execution_count": 49
        }
      ]
    },
    {
      "cell_type": "code",
      "metadata": {
        "id": "iM4nG90ka2pm"
      },
      "source": [
        ""
      ],
      "execution_count": null,
      "outputs": []
    },
    {
      "cell_type": "code",
      "metadata": {
        "colab": {
          "base_uri": "https://localhost:8080/"
        },
        "id": "ZDQonq22Y_9m",
        "outputId": "ff374cca-c99c-485f-b4a0-3e4b70f8fd0e"
      },
      "source": [
        "pip install eli5"
      ],
      "execution_count": 38,
      "outputs": [
        {
          "output_type": "stream",
          "name": "stdout",
          "text": [
            "Collecting eli5\n",
            "  Downloading eli5-0.11.0-py2.py3-none-any.whl (106 kB)\n",
            "\u001b[?25l\r\u001b[K     |███                             | 10 kB 36.7 MB/s eta 0:00:01\r\u001b[K     |██████▏                         | 20 kB 25.6 MB/s eta 0:00:01\r\u001b[K     |█████████▎                      | 30 kB 17.5 MB/s eta 0:00:01\r\u001b[K     |████████████▍                   | 40 kB 14.9 MB/s eta 0:00:01\r\u001b[K     |███████████████▌                | 51 kB 8.2 MB/s eta 0:00:01\r\u001b[K     |██████████████████▌             | 61 kB 8.0 MB/s eta 0:00:01\r\u001b[K     |█████████████████████▋          | 71 kB 8.5 MB/s eta 0:00:01\r\u001b[K     |████████████████████████▊       | 81 kB 9.5 MB/s eta 0:00:01\r\u001b[K     |███████████████████████████▉    | 92 kB 9.8 MB/s eta 0:00:01\r\u001b[K     |███████████████████████████████ | 102 kB 8.0 MB/s eta 0:00:01\r\u001b[K     |████████████████████████████████| 106 kB 8.0 MB/s \n",
            "\u001b[?25hRequirement already satisfied: tabulate>=0.7.7 in /usr/local/lib/python3.7/dist-packages (from eli5) (0.8.9)\n",
            "Requirement already satisfied: six in /usr/local/lib/python3.7/dist-packages (from eli5) (1.15.0)\n",
            "Requirement already satisfied: attrs>16.0.0 in /usr/local/lib/python3.7/dist-packages (from eli5) (21.2.0)\n",
            "Requirement already satisfied: scipy in /usr/local/lib/python3.7/dist-packages (from eli5) (1.4.1)\n",
            "Requirement already satisfied: numpy>=1.9.0 in /usr/local/lib/python3.7/dist-packages (from eli5) (1.19.5)\n",
            "Requirement already satisfied: graphviz in /usr/local/lib/python3.7/dist-packages (from eli5) (0.10.1)\n",
            "Requirement already satisfied: jinja2 in /usr/local/lib/python3.7/dist-packages (from eli5) (2.11.3)\n",
            "Requirement already satisfied: scikit-learn>=0.20 in /usr/local/lib/python3.7/dist-packages (from eli5) (0.22.2.post1)\n",
            "Requirement already satisfied: joblib>=0.11 in /usr/local/lib/python3.7/dist-packages (from scikit-learn>=0.20->eli5) (1.0.1)\n",
            "Requirement already satisfied: MarkupSafe>=0.23 in /usr/local/lib/python3.7/dist-packages (from jinja2->eli5) (2.0.1)\n",
            "Installing collected packages: eli5\n",
            "Successfully installed eli5-0.11.0\n"
          ]
        }
      ]
    },
    {
      "cell_type": "markdown",
      "metadata": {
        "id": "gFAeSkHzl-bE"
      },
      "source": [
        ""
      ]
    },
    {
      "cell_type": "markdown",
      "metadata": {
        "id": "TZayENWzlL_0"
      },
      "source": [
        ""
      ]
    }
  ]
}